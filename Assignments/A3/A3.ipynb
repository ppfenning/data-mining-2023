{
 "cells": [
  {
   "cell_type": "markdown",
   "source": [
    "# Q1\n"
   ],
   "metadata": {
    "collapsed": false
   }
  },
  {
   "cell_type": "markdown",
   "source": [
    "# Q2\n",
    "\n",
    "| Measure                            | Binary | Discrete | Continuous | Nominal | Ordinal | Interval | Ratio | Note                                                                |\n",
    "|------------------------------------|--------|----------|------------|---------|---------|----------|-------|---------------------------------------------------------------------|\n",
    "| Time in AM/PM                      |        | X        |            |         |         |          | X     | Any modular measure is a ratio (as there are no negative values)    |\n",
    "| Brightness by light meter          |        |          | X          |         |         |          | X     | No such thing as \"negative\" brightness                              |\n",
    "| Brightness by Judgement            | X      |          |            | X       |         |          |       | Either bright or not, but no measure is \"greater\"                   |\n",
    "| Angles in degrees from 0 to 360    |        |          | X          |         |         |          | X     | Modular                                                             |\n",
    "| Olympic Medals                     |        | X        |            |         | X       |          |       | 3 values with order                                                 |\n",
    "| Height above sea level             |        |          | X          |         |         | X        |       | Can this go both above and below sea level? If so, this is interval |\n",
    "| Number of patience in a hospital   |        | X        |            |         |         |          | X     | No partial patient, no negative                                     |\n",
    "| ISBN numbers                       |        | X        |            | X       |         |          |       | ISBN has no order, is an identifier                                 |\n",
    "| Clarity                            |        | X        |            |         | X       |          |       | Description of clarity, with order (opaque to clear)                |\n",
    "| Military rank                      |        | X        |            |         | X       |          |       | Hierarchy                                                           |\n",
    "| Distance from the center of campus |        |          | X          |         |         |          | X     | Radius can be measured continuously, but cannot go negative         |\n",
    "| Density of a substance from g/cm^3 |        |          | X          |         |         |          | X     | Density is mass/volume, both are ratio measures                     |\n",
    "| Coat check number                  |        | X        |            | X       |         |          |       | Identifier                                                          |"
   ],
   "metadata": {
    "collapsed": false
   }
  },
  {
   "cell_type": "markdown",
   "source": [
    "# Q3\n",
    "\n"
   ],
   "metadata": {
    "collapsed": false
   }
  },
  {
   "cell_type": "code",
   "execution_count": null,
   "outputs": [],
   "source": [],
   "metadata": {
    "collapsed": false,
    "ExecuteTime": {
     "end_time": "2023-07-09T21:48:57.120028377Z",
     "start_time": "2023-07-09T21:48:57.100448967Z"
    }
   }
  }
 ],
 "metadata": {
  "kernelspec": {
   "display_name": "Python 3",
   "language": "python",
   "name": "python3"
  },
  "language_info": {
   "codemirror_mode": {
    "name": "ipython",
    "version": 2
   },
   "file_extension": ".py",
   "mimetype": "text/x-python",
   "name": "python",
   "nbconvert_exporter": "python",
   "pygments_lexer": "ipython2",
   "version": "2.7.6"
  }
 },
 "nbformat": 4,
 "nbformat_minor": 0
}
