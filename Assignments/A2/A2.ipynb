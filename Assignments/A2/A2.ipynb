{
 "cells": [
  {
   "cell_type": "markdown",
   "source": [
    "# Assignment 2\n",
    "\n",
    "#### Patrick Pfenning"
   ],
   "metadata": {
    "collapsed": false
   }
  },
  {
   "cell_type": "markdown",
   "source": [
    "\n",
    "## Part 1: Operations\n",
    "\n",
    "Nominal\n",
    "--\n",
    "> Mode:\n",
    ">> 1. Definition: In a given set, which value occurs most frequently.\n",
    ">> 2. Why?: Nominal values are inherently characteristic values that have distinctess. Simply a set of values which are allowed to describe a feature. They are discrete, finite sets with no concept of order. Counting occurrences of such data types are one of the few numeric operations which nominals can map/reduce with, and thus are perfect for mode.\n",
    ">> 3. Examples:\n",
    ">>> - Zip Codes: In what area are the majority of our shoppers from?\n",
    ">>> - Employee ID: Which employee had the highest number of sales last month?\n",
    ">>> - Eye Color: What is the most common eye color in each European nation?\n",
    ">>> - Sex: What is the most common sex in a list of given professions?\n",
    ">>\n",
    "> Entropy:\n",
    ">> 1. Definition: The measure of uncertainty of an outcome.\n",
    ">> 2. Why?: Entropy provides a distribution for possible outcomes in a set. For set where permutation is irrelevant, entropy is a way to determine likelihood of an option in comparison to its peers.\n",
    ">> 3. Examples:\n",
    ">>> - Zip Codes: What is it likely that someone in from neighborhood _X_ has cable?\n",
    ">>> - Employee ID: Which branches are most apt to have married employees?\n",
    ">>> - Eye Color: Are those with green eyes prone to skin cancer?\n",
    ">>> - Sex: What is the gender breakdown (percentage) across majors?\n",
    ">>\n",
    "> Contingency Correlation:\n",
    ">> 1. Definition: The measure of association between features.\n",
    ">> 2. Why?: This operation can help visualize/quantify how likely lose within one group belong to another. For example, given the set of baseball players who are left-handed throwers what is their primary position? You would find a low percentage of positions {2, 4, 5, 6} would throw left-handed, with a high spike in {1, 3}.\n",
    ">> 3. Examples:\n",
    ">>> - Zip Codes: What percentage of residents of {zip0, zip1, zip2} are in each income bracket?\n",
    ">>> - Employee ID: What is the commute distribution for employees in {branch0, branch1, ..., branch_n}: 0-15min, 15-30min, 30-60min, 60+?\n",
    ">>> - Eye Color/Sex: What percentage of females surveyed have blue eyes?"
   ],
   "metadata": {
    "collapsed": false
   }
  },
  {
   "cell_type": "code",
   "execution_count": null,
   "outputs": [],
   "source": [],
   "metadata": {
    "collapsed": false
   }
  }
 ],
 "metadata": {
  "kernelspec": {
   "display_name": "Python 3",
   "language": "python",
   "name": "python3"
  },
  "language_info": {
   "codemirror_mode": {
    "name": "ipython",
    "version": 2
   },
   "file_extension": ".py",
   "mimetype": "text/x-python",
   "name": "python",
   "nbconvert_exporter": "python",
   "pygments_lexer": "ipython2",
   "version": "2.7.6"
  }
 },
 "nbformat": 4,
 "nbformat_minor": 0
}
